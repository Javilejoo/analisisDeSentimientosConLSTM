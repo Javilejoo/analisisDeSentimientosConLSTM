{
 "cells": [
  {
   "cell_type": "markdown",
   "id": "4ac0d2a4-9d46-4817-b317-d21b8c6c495a",
   "metadata": {},
   "source": [
    "## Ejemplo muy simple de incrustación "
   ]
  },
  {
   "cell_type": "code",
   "execution_count": null,
   "id": "cdf8d64e-19ee-4a14-89eb-e5ee8aa9f600",
   "metadata": {
    "tags": []
   },
   "outputs": [],
   "source": [
    "import numpy as np"
   ]
  },
  {
   "cell_type": "code",
   "execution_count": null,
   "id": "6ad4caf6-967e-492f-a22c-d456fe8130b3",
   "metadata": {
    "tags": []
   },
   "outputs": [],
   "source": [
    "frases = [\"Yo amo chocolate\", \"Yo odio brocoli\"]\n",
    "etiquetas = np.array([1, 0])  # 1 para positivo, 0 para negativo (sentimiento)\n"
   ]
  },
  {
   "cell_type": "markdown",
   "id": "34b3640e-aa65-4f70-9060-fe754f9ca465",
   "metadata": {},
   "source": [
    "## Pre-procesar los datos"
   ]
  },
  {
   "cell_type": "code",
   "execution_count": null,
   "id": "41158b4f-87a7-4103-abf5-7da541609a19",
   "metadata": {
    "tags": []
   },
   "outputs": [],
   "source": [
    "from tensorflow.keras.preprocessing.text import Tokenizer\n",
    "from tensorflow.keras.preprocessing.sequence import pad_sequences\n",
    "\n",
    "# Tokenizar las frases\n",
    "tokenizador = Tokenizer()\n",
    "tokenizador.fit_on_texts(frases)\n",
    "secuencias = tokenizador.texts_to_sequences(frases)\n",
    "\n",
    "# Rellenar (Pad) las secuencias para que tengan la misma longitud\n",
    "secuencias_rellenas = pad_sequences(secuencias, padding='post')\n",
    "\n",
    "print(secuencias_rellenas)  # [[1 2 3], [1 4 5]]\n"
   ]
  },
  {
   "cell_type": "markdown",
   "id": "51ae33a1-c3ac-4a12-ae7b-d1c7f81a7d6d",
   "metadata": {},
   "source": [
    "## Definir el modelo con una capa de incrustación"
   ]
  },
  {
   "cell_type": "code",
   "execution_count": null,
   "id": "f77fa930-d84a-4fca-920e-cd98caf702fa",
   "metadata": {
    "tags": []
   },
   "outputs": [],
   "source": [
    "from tensorflow.keras.models import Sequential\n",
    "from tensorflow.keras.layers import Embedding, Flatten, Dense\n",
    "\n",
    "long_vocab = len(tokenizador.word_index) + 1\n",
    "dim_incrustamiento = 2  # Representar cada palabra por un vector 2D\n",
    "\n",
    "modelo = Sequential([\n",
    "    Embedding(input_dim = long_vocab, output_dim = dim_incrustamiento, input_length = 3),\n",
    "    Flatten(),  # Aplanar la matriz de 3x2 en un vector 6D para la capa Dense\n",
    "    Dense(1, activation='sigmoid')  # Clasificación binaria\n",
    "])\n",
    "\n",
    "modelo.compile(optimizer='adam', loss='binary_crossentropy', metrics=['accuracy'])\n"
   ]
  },
  {
   "cell_type": "markdown",
   "id": "25b518a3-1239-4a62-b563-499fee55f2da",
   "metadata": {},
   "source": [
    "## Entrenar el modelo"
   ]
  },
  {
   "cell_type": "code",
   "execution_count": null,
   "id": "c9fbbc03-1a8b-43da-845b-0d2f4d315eb6",
   "metadata": {
    "tags": []
   },
   "outputs": [],
   "source": [
    "modelo.fit(secuencias_rellenas, etiquetas, epochs = 50)\n"
   ]
  },
  {
   "cell_type": "markdown",
   "id": "5c8d4c12-d79c-4625-bb77-4469691c73a3",
   "metadata": {},
   "source": [
    "## Mostrar las incrustaciones"
   ]
  },
  {
   "cell_type": "code",
   "execution_count": null,
   "id": "af0bdb62-bd90-4b5f-9c5c-65ff0577e25d",
   "metadata": {
    "tags": []
   },
   "outputs": [],
   "source": [
    "# Extraer las incrustaciones\n",
    "capa_incrustacion = modelo.layers[0]\n",
    "incrustaciones = capa_incrustacion.get_weights()[0]\n",
    "\n",
    "# Desplegar las incrustaciones para cada palabra\n",
    "for palabra, i in tokenizador.word_index.items():\n",
    "    print(f\"Palabra: {palabra}\")\n",
    "    print(f\"Incrustación: {incrustaciones[i]}\")\n",
    "    print(\"--------------\")\n"
   ]
  },
  {
   "cell_type": "code",
   "execution_count": null,
   "id": "e97b8ef2-12c8-42b5-ae46-e4d4db4b2cd6",
   "metadata": {},
   "outputs": [],
   "source": []
  }
 ],
 "metadata": {
  "kernelspec": {
   "display_name": "Python (tf-metal)",
   "language": "python",
   "name": "tf-metal"
  },
  "language_info": {
   "codemirror_mode": {
    "name": "ipython",
    "version": 3
   },
   "file_extension": ".py",
   "mimetype": "text/x-python",
   "name": "python",
   "nbconvert_exporter": "python",
   "pygments_lexer": "ipython3",
   "version": "3.11.13"
  }
 },
 "nbformat": 4,
 "nbformat_minor": 5
}
