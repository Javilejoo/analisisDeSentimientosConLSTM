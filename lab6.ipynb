{
 "cells": [
  {
   "cell_type": "markdown",
   "id": "d65ff581",
   "metadata": {},
   "source": [
    "# Lab 6 : Análisis de Sentimientos"
   ]
  },
  {
   "cell_type": "code",
   "execution_count": 1,
   "id": "0b00480c",
   "metadata": {},
   "outputs": [],
   "source": [
    "from tensorflow.keras.datasets import imdb"
   ]
  },
  {
   "cell_type": "code",
   "execution_count": 2,
   "id": "4c3be1e6",
   "metadata": {},
   "outputs": [],
   "source": [
    "from tensorflow.keras.preprocessing import sequence\n",
    "from tensorflow.keras.models import Sequential\n",
    "from tensorflow.keras.layers import Dense, Embedding\n",
    "from tensorflow.keras.layers import LSTM\n",
    "import tensorflow as tf\n",
    "import numpy as np"
   ]
  },
  {
   "cell_type": "code",
   "execution_count": 3,
   "id": "ff5bf5e6",
   "metadata": {},
   "outputs": [
    {
     "name": "stdout",
     "output_type": "stream",
     "text": [
      "Cargando los datos...\n",
      "Datos cargados\n"
     ]
    }
   ],
   "source": [
    "print('Cargando los datos...')\n",
    "(X_train, y_train), (X_test, y_test) = imdb.load_data(num_words=50000)\n",
    "print('Datos cargados')"
   ]
  },
  {
   "cell_type": "code",
   "execution_count": 4,
   "id": "d0dfc3fa",
   "metadata": {},
   "outputs": [
    {
     "name": "stdout",
     "output_type": "stream",
     "text": [
      "(25000,)\n",
      "(25000,)\n",
      "(25000,)\n",
      "(25000,)\n"
     ]
    }
   ],
   "source": [
    "print(X_train.shape)\n",
    "print(y_train.shape)\n",
    "print(X_test.shape)\n",
    "print(y_test.shape)"
   ]
  },
  {
   "cell_type": "code",
   "execution_count": 5,
   "id": "a2ad4865",
   "metadata": {},
   "outputs": [
    {
     "name": "stdout",
     "output_type": "stream",
     "text": [
      "218\n",
      "189\n",
      "141\n",
      "550\n",
      "147\n",
      "43\n",
      "123\n",
      "562\n",
      "233\n",
      "130\n"
     ]
    }
   ],
   "source": [
    "for i in range(0,10):\n",
    "    print(len(X_train[i]))"
   ]
  },
  {
   "cell_type": "code",
   "execution_count": 6,
   "id": "411ad069",
   "metadata": {},
   "outputs": [
    {
     "name": "stdout",
     "output_type": "stream",
     "text": [
      "1\n",
      "0\n",
      "0\n",
      "1\n",
      "0\n",
      "0\n",
      "1\n",
      "0\n",
      "1\n",
      "0\n"
     ]
    }
   ],
   "source": [
    "for i in range(0,10):\n",
    "    print(y_train[i])"
   ]
  },
  {
   "cell_type": "markdown",
   "id": "336f27df",
   "metadata": {},
   "source": [
    "### Preprocesamiento\n",
    "Dejar todas las críticas en una longitud uniforme. De esta manera los datos no están tan sesgados."
   ]
  },
  {
   "cell_type": "code",
   "execution_count": 9,
   "id": "4f87b0d4",
   "metadata": {},
   "outputs": [
    {
     "name": "stdout",
     "output_type": "stream",
     "text": [
      "331.0 467.0 610.0 926.0\n"
     ]
    }
   ],
   "source": [
    "# decide percentiles\n",
    "lengths = np.array([len(seq) for seq in X_train])\n",
    "p90 = np.percentile(lengths, 90)\n",
    "p95 = np.percentile(lengths, 95)\n",
    "p99 = np.percentile(lengths, 99)\n",
    "p80 = np.percentile(lengths, 80)\n",
    "print(p80, p90, p95, p99)\n"
   ]
  },
  {
   "cell_type": "code",
   "execution_count": null,
   "id": "509dbda9",
   "metadata": {},
   "outputs": [],
   "source": [
    "# fill in\n",
    "X_train = sequence.pad_sequences(X_train, maxlen=int(p80), padding='post', truncating='post') # not sure about default\n",
    "X_test = sequence.pad_sequences(X_test, maxlen=int(p80), padding='post', truncating='post')\n"
   ]
  },
  {
   "cell_type": "markdown",
   "id": "fd7b7a6b",
   "metadata": {},
   "source": [
    "Agregar features o características que puedan servir para que el modelo funcione mejor. "
   ]
  },
  {
   "cell_type": "code",
   "execution_count": null,
   "id": "96eba679",
   "metadata": {},
   "outputs": [],
   "source": []
  },
  {
   "cell_type": "code",
   "execution_count": null,
   "id": "dcf3161b",
   "metadata": {},
   "outputs": [],
   "source": []
  },
  {
   "cell_type": "markdown",
   "id": "535da927",
   "metadata": {},
   "source": []
  }
 ],
 "metadata": {
  "kernelspec": {
   "display_name": "venv",
   "language": "python",
   "name": "python3"
  },
  "language_info": {
   "codemirror_mode": {
    "name": "ipython",
    "version": 3
   },
   "file_extension": ".py",
   "mimetype": "text/x-python",
   "name": "python",
   "nbconvert_exporter": "python",
   "pygments_lexer": "ipython3",
   "version": "3.12.4"
  }
 },
 "nbformat": 4,
 "nbformat_minor": 5
}
